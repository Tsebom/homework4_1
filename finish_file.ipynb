{
 "cells": [
  {
   "cell_type": "code",
   "execution_count": 7,
   "metadata": {
    "collapsed": true
   },
   "outputs": [],
   "source": [
    "import pandas as pd"
   ]
  },
  {
   "cell_type": "code",
   "execution_count": 64,
   "metadata": {
    "collapsed": true
   },
   "outputs": [],
   "source": [
    "# Путь к папке с фаилами\n",
    "DATA_PATH = 'C:\\\\Users\\\\Tsebom\\\\Documents\\\\MyProject\\\\homework4_1\\\\.ipynb_checkpoints\\\\Data\\\\'"
   ]
  },
  {
   "cell_type": "code",
   "execution_count": 65,
   "metadata": {
    "collapsed": true
   },
   "outputs": [],
   "source": [
    "def read_file(file_):\n",
    "    rezult = pd.read_csv(''.join([DATA_PATH, 'yob', str(file_), '.txt']), names=['Name','Sex','Quantity'])\n",
    "    return rezult"
   ]
  },
  {
   "cell_type": "code",
   "execution_count": 66,
   "metadata": {},
   "outputs": [],
   "source": [
    "def top_3(name):\n",
    "    rezult = name.sort_values(by='Quantity', ascending=False).head(3)\n",
    "    return rezult"
   ]
  },
  {
   "cell_type": "code",
   "execution_count": 67,
   "metadata": {
    "collapsed": true
   },
   "outputs": [],
   "source": [
    "def  count_top3(list_):\n",
    "    names_top = pd.DataFrame({\n",
    "        'Name': [],\n",
    "        'Sex': [],\n",
    "        'Quantity': []\n",
    "    })\n",
    "    \n",
    "    for year in list_:\n",
    "        name = top_3(read_file(year))\n",
    "        \n",
    "        names_top = pd.concat([names_top, name], names=['Name', 'Sex', 'Quantity'])\n",
    "        \n",
    "    names_top = top_3(names_top.groupby('Name').sum())\n",
    "        \n",
    "    return names_top"
   ]
  },
  {
   "cell_type": "code",
   "execution_count": 73,
   "metadata": {},
   "outputs": [
    {
     "name": "stdout",
     "output_type": "stream",
     "text": [
      "ЗАДАНИЕ №1\n",
      "Пример из задания\n",
      "Y: [1900, 1950, 2000]\n",
      "N: [James , John, Robert]\n"
     ]
    },
    {
     "data": {
      "text/html": [
       "<div>\n",
       "<style>\n",
       "    .dataframe thead tr:only-child th {\n",
       "        text-align: right;\n",
       "    }\n",
       "\n",
       "    .dataframe thead th {\n",
       "        text-align: left;\n",
       "    }\n",
       "\n",
       "    .dataframe tbody tr th {\n",
       "        vertical-align: top;\n",
       "    }\n",
       "</style>\n",
       "<table border=\"1\" class=\"dataframe\">\n",
       "  <thead>\n",
       "    <tr style=\"text-align: right;\">\n",
       "      <th></th>\n",
       "      <th>Quantity</th>\n",
       "    </tr>\n",
       "    <tr>\n",
       "      <th>Name</th>\n",
       "      <th></th>\n",
       "    </tr>\n",
       "  </thead>\n",
       "  <tbody>\n",
       "    <tr>\n",
       "      <th>James</th>\n",
       "      <td>86238.0</td>\n",
       "    </tr>\n",
       "    <tr>\n",
       "      <th>Robert</th>\n",
       "      <td>83575.0</td>\n",
       "    </tr>\n",
       "    <tr>\n",
       "      <th>Linda</th>\n",
       "      <td>80439.0</td>\n",
       "    </tr>\n",
       "  </tbody>\n",
       "</table>\n",
       "</div>"
      ],
      "text/plain": [
       "        Quantity\n",
       "Name            \n",
       "James    86238.0\n",
       "Robert   83575.0\n",
       "Linda    80439.0"
      ]
     },
     "execution_count": 73,
     "metadata": {},
     "output_type": "execute_result"
    }
   ],
   "source": [
    "name = count_top3([1900, 1950, 2000])\n",
    "print('ЗАДАНИЕ №1')\n",
    "print('Пример из задания\\nY: [1900, 1950, 2000]\\nN: [James , John, Robert]')\n",
    "name"
   ]
  },
  {
   "cell_type": "code",
   "execution_count": 69,
   "metadata": {},
   "outputs": [],
   "source": [
    "def count_dynamics(list_):\n",
    "    rezult = {\n",
    "        'Year': [],\n",
    "        'Man': [],\n",
    "        'Woman': []\n",
    "    }\n",
    "    \n",
    "    for year in list_:\n",
    "        name = read_file(year)\n",
    "        \n",
    "        rezult['Year'].append(year)\n",
    "        rezult['Man'].append(name[name.Sex == 'M'].Quantity.sum())\n",
    "        rezult['Woman'].append(name[name.Sex == 'F'].Quantity.sum())\n",
    "        \n",
    "    rezult = pd.DataFrame(rezult)\n",
    "    \n",
    "    return rezult\n",
    "        "
   ]
  },
  {
   "cell_type": "code",
   "execution_count": 74,
   "metadata": {},
   "outputs": [
    {
     "name": "stdout",
     "output_type": "stream",
     "text": [
      "ЗАДАНИЕ №2\n",
      "Пример из задания\n",
      "Y: [1900, 1950, 2000]\n",
      "F: [299810, 1713259, 1814922]\n",
      "M: [150486, 1790871, 1962744]\n"
     ]
    },
    {
     "data": {
      "text/html": [
       "<div>\n",
       "<style>\n",
       "    .dataframe thead tr:only-child th {\n",
       "        text-align: right;\n",
       "    }\n",
       "\n",
       "    .dataframe thead th {\n",
       "        text-align: left;\n",
       "    }\n",
       "\n",
       "    .dataframe tbody tr th {\n",
       "        vertical-align: top;\n",
       "    }\n",
       "</style>\n",
       "<table border=\"1\" class=\"dataframe\">\n",
       "  <thead>\n",
       "    <tr style=\"text-align: right;\">\n",
       "      <th></th>\n",
       "      <th>Man</th>\n",
       "      <th>Woman</th>\n",
       "      <th>Year</th>\n",
       "    </tr>\n",
       "  </thead>\n",
       "  <tbody>\n",
       "    <tr>\n",
       "      <th>0</th>\n",
       "      <td>150486</td>\n",
       "      <td>299810</td>\n",
       "      <td>1900</td>\n",
       "    </tr>\n",
       "    <tr>\n",
       "      <th>1</th>\n",
       "      <td>1790871</td>\n",
       "      <td>1713259</td>\n",
       "      <td>1950</td>\n",
       "    </tr>\n",
       "    <tr>\n",
       "      <th>2</th>\n",
       "      <td>1962744</td>\n",
       "      <td>1814922</td>\n",
       "      <td>2000</td>\n",
       "    </tr>\n",
       "  </tbody>\n",
       "</table>\n",
       "</div>"
      ],
      "text/plain": [
       "       Man    Woman  Year\n",
       "0   150486   299810  1900\n",
       "1  1790871  1713259  1950\n",
       "2  1962744  1814922  2000"
      ]
     },
     "execution_count": 74,
     "metadata": {},
     "output_type": "execute_result"
    }
   ],
   "source": [
    "gender = count_dynamics([1900, 1950, 2000])\n",
    "print('ЗАДАНИЕ №2')\n",
    "print('Пример из задания\\nY: [1900, 1950, 2000]\\nF: [299810, 1713259, 1814922]\\nM: [150486, 1790871, 1962744]')\n",
    "gender"
   ]
  },
  {
   "cell_type": "code",
   "execution_count": null,
   "metadata": {
    "collapsed": true
   },
   "outputs": [],
   "source": []
  }
 ],
 "metadata": {
  "kernelspec": {
   "display_name": "Python 3",
   "language": "python",
   "name": "python3"
  },
  "language_info": {
   "codemirror_mode": {
    "name": "ipython",
    "version": 3
   },
   "file_extension": ".py",
   "mimetype": "text/x-python",
   "name": "python",
   "nbconvert_exporter": "python",
   "pygments_lexer": "ipython3",
   "version": "3.6.1"
  }
 },
 "nbformat": 4,
 "nbformat_minor": 2
}
