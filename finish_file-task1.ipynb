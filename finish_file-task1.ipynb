{
 "cells": [
  {
   "cell_type": "code",
   "execution_count": 5,
   "metadata": {
    "collapsed": true
   },
   "outputs": [],
   "source": [
    "import pandas as pd"
   ]
  },
  {
   "cell_type": "code",
   "execution_count": 6,
   "metadata": {
    "collapsed": true
   },
   "outputs": [],
   "source": [
    "# Путь к папке с фаилами\n",
    "DATA_PATH = 'C:\\\\Users\\\\Tsebom\\\\Documents\\\\MyProject\\\\homework4_1\\\\.ipynb_checkpoints\\\\Data\\\\'"
   ]
  },
  {
   "cell_type": "code",
   "execution_count": 7,
   "metadata": {
    "collapsed": true
   },
   "outputs": [],
   "source": [
    "def read_file(file_):\n",
    "    \"\"\"\n",
    "    Возвращает содержимое фаила\n",
    "    \"\"\"\n",
    "    rezult = pd.read_csv(''.join([DATA_PATH, 'yob', str(file_), '.txt']), names=['Name','Sex','Quantity'])\n",
    "    return rezult"
   ]
  },
  {
   "cell_type": "code",
   "execution_count": 8,
   "metadata": {
    "collapsed": true
   },
   "outputs": [],
   "source": [
    "def top_3(name):\n",
    "    \"\"\"\n",
    "    Возвращает ТОП-3 имен\n",
    "    \"\"\"\n",
    "    rezult = name.sort_values(by='Quantity', ascending=False).head(3)\n",
    "    return rezult"
   ]
  },
  {
   "cell_type": "code",
   "execution_count": 30,
   "metadata": {
    "collapsed": true
   },
   "outputs": [],
   "source": [
    "def  count_top3_merge(list_):\n",
    "    \"\"\"\n",
    "    Возвращает ТОП-3  имен за года из списка\n",
    "    \"\"\"\n",
    "\n",
    "    names_top = read_file(list_[0])\n",
    "    \n",
    "    for year in range(len(list_) - 1):\n",
    "        name = read_file(list_[year + 1])\n",
    "        \n",
    "        names_top = pd.merge(names_top, name, on=['Name', 'Sex'])\n",
    "        names_top['Quantity'] = names_top.Quantity_x + names_top.Quantity_y\n",
    "        names_top.drop('Quantity_x', axis=1, inplace=True)\n",
    "        names_top.drop('Quantity_y', axis=1, inplace=True)\n",
    "        \n",
    "    \n",
    "    names_top = names_top.sort_values(by='Quantity', ascending=False).head(3)\n",
    "\n",
    "    return names_top   "
   ]
  },
  {
   "cell_type": "code",
   "execution_count": 31,
   "metadata": {},
   "outputs": [
    {
     "name": "stdout",
     "output_type": "stream",
     "text": [
      "\n",
      "ЗАДАНИЕ №1\n",
      "Пример из задания\n",
      "Y: [1900, 1950, 2000]\n",
      "N: [James , John, Robert]\n",
      "\n",
      "\n",
      "##########-WORK-ON-MISTAKE-###########\n",
      "\n",
      "count_top3([1900, 1950, 2000]) == ['James', 'John', 'Robert']\n"
     ]
    },
    {
     "data": {
      "text/html": [
       "<div>\n",
       "<style>\n",
       "    .dataframe thead tr:only-child th {\n",
       "        text-align: right;\n",
       "    }\n",
       "\n",
       "    .dataframe thead th {\n",
       "        text-align: left;\n",
       "    }\n",
       "\n",
       "    .dataframe tbody tr th {\n",
       "        vertical-align: top;\n",
       "    }\n",
       "</style>\n",
       "<table border=\"1\" class=\"dataframe\">\n",
       "  <thead>\n",
       "    <tr style=\"text-align: right;\">\n",
       "      <th></th>\n",
       "      <th>Name</th>\n",
       "      <th>Sex</th>\n",
       "      <th>Quantity</th>\n",
       "    </tr>\n",
       "  </thead>\n",
       "  <tbody>\n",
       "    <tr>\n",
       "      <th>1146</th>\n",
       "      <td>James</td>\n",
       "      <td>M</td>\n",
       "      <td>111462</td>\n",
       "    </tr>\n",
       "    <tr>\n",
       "      <th>1144</th>\n",
       "      <td>John</td>\n",
       "      <td>M</td>\n",
       "      <td>109343</td>\n",
       "    </tr>\n",
       "    <tr>\n",
       "      <th>1149</th>\n",
       "      <td>Robert</td>\n",
       "      <td>M</td>\n",
       "      <td>101131</td>\n",
       "    </tr>\n",
       "  </tbody>\n",
       "</table>\n",
       "</div>"
      ],
      "text/plain": [
       "        Name Sex  Quantity\n",
       "1146   James   M    111462\n",
       "1144    John   M    109343\n",
       "1149  Robert   M    101131"
      ]
     },
     "execution_count": 31,
     "metadata": {},
     "output_type": "execute_result"
    }
   ],
   "source": [
    "years = [1900, 1950, 2000]\n",
    "\n",
    "print('\\nЗАДАНИЕ №1')\n",
    "print('Пример из задания\\nY: [1900, 1950, 2000]\\nN: [James , John, Robert]\\n')\n",
    "    \n",
    "name = count_top3_merge(years)\n",
    "\n",
    "print('\\n##########-WORK-ON-MISTAKE-###########\\n')\n",
    "\n",
    "print('count_top3({}) == {}'.format(years, [x for x in name.Name]))\n",
    "#name = dict(name)\n",
    "#name = pd.DataFrame(name['Quantity'])\n",
    "name"
   ]
  },
  {
   "cell_type": "code",
   "execution_count": null,
   "metadata": {
    "collapsed": true
   },
   "outputs": [],
   "source": []
  }
 ],
 "metadata": {
  "kernelspec": {
   "display_name": "Python 3",
   "language": "python",
   "name": "python3"
  },
  "language_info": {
   "codemirror_mode": {
    "name": "ipython",
    "version": 3
   },
   "file_extension": ".py",
   "mimetype": "text/x-python",
   "name": "python",
   "nbconvert_exporter": "python",
   "pygments_lexer": "ipython3",
   "version": "3.6.1"
  }
 },
 "nbformat": 4,
 "nbformat_minor": 2
}
